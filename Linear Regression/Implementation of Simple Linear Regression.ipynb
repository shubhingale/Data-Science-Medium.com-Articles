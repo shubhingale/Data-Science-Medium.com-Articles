{
 "cells": [
  {
   "cell_type": "code",
   "execution_count": 1,
   "id": "43d5cf1e",
   "metadata": {},
   "outputs": [
    {
     "data": {
      "text/plain": [
       "<Figure size 800x800 with 0 Axes>"
      ]
     },
     "execution_count": 1,
     "metadata": {},
     "output_type": "execute_result"
    },
    {
     "data": {
      "text/plain": [
       "<Figure size 800x800 with 0 Axes>"
      ]
     },
     "metadata": {},
     "output_type": "display_data"
    }
   ],
   "source": [
    "import pandas as pd\n",
    "import numpy as np\n",
    "import matplotlib.pyplot as plt\n",
    "from matplotlib.pyplot import figure\n",
    "\n",
    "figure(figsize=(10, 10), dpi=80)"
   ]
  },
  {
   "cell_type": "markdown",
   "id": "61ca32c0",
   "metadata": {},
   "source": [
    "## 1. Importing the dataset"
   ]
  },
  {
   "cell_type": "code",
   "execution_count": 2,
   "id": "d80d5270",
   "metadata": {},
   "outputs": [
    {
     "data": {
      "text/html": [
       "<div>\n",
       "<style scoped>\n",
       "    .dataframe tbody tr th:only-of-type {\n",
       "        vertical-align: middle;\n",
       "    }\n",
       "\n",
       "    .dataframe tbody tr th {\n",
       "        vertical-align: top;\n",
       "    }\n",
       "\n",
       "    .dataframe thead th {\n",
       "        text-align: right;\n",
       "    }\n",
       "</style>\n",
       "<table border=\"1\" class=\"dataframe\">\n",
       "  <thead>\n",
       "    <tr style=\"text-align: right;\">\n",
       "      <th></th>\n",
       "      <th>YearsExperience</th>\n",
       "      <th>Salary</th>\n",
       "    </tr>\n",
       "  </thead>\n",
       "  <tbody>\n",
       "    <tr>\n",
       "      <th>0</th>\n",
       "      <td>1.1</td>\n",
       "      <td>39343.0</td>\n",
       "    </tr>\n",
       "    <tr>\n",
       "      <th>1</th>\n",
       "      <td>1.3</td>\n",
       "      <td>46205.0</td>\n",
       "    </tr>\n",
       "    <tr>\n",
       "      <th>2</th>\n",
       "      <td>1.5</td>\n",
       "      <td>37731.0</td>\n",
       "    </tr>\n",
       "    <tr>\n",
       "      <th>3</th>\n",
       "      <td>2.0</td>\n",
       "      <td>43525.0</td>\n",
       "    </tr>\n",
       "    <tr>\n",
       "      <th>4</th>\n",
       "      <td>2.2</td>\n",
       "      <td>39891.0</td>\n",
       "    </tr>\n",
       "  </tbody>\n",
       "</table>\n",
       "</div>"
      ],
      "text/plain": [
       "   YearsExperience   Salary\n",
       "0              1.1  39343.0\n",
       "1              1.3  46205.0\n",
       "2              1.5  37731.0\n",
       "3              2.0  43525.0\n",
       "4              2.2  39891.0"
      ]
     },
     "execution_count": 2,
     "metadata": {},
     "output_type": "execute_result"
    }
   ],
   "source": [
    "df = pd.read_csv(\"Salary_Data.csv\")\n",
    "df.head(5)"
   ]
  },
  {
   "cell_type": "markdown",
   "id": "0f8b983a",
   "metadata": {},
   "source": [
    "## 2. Data Preprocessing"
   ]
  },
  {
   "cell_type": "code",
   "execution_count": 3,
   "id": "b00aadd7",
   "metadata": {},
   "outputs": [],
   "source": [
    "X = df.iloc[:,:-1].values  #independent variable array\n",
    "y = df.iloc[:,1].values  #dependent variable vector"
   ]
  },
  {
   "cell_type": "markdown",
   "id": "f73256c6",
   "metadata": {},
   "source": [
    "## 3. Splitting the dataset"
   ]
  },
  {
   "cell_type": "code",
   "execution_count": 4,
   "id": "4b58aae8",
   "metadata": {},
   "outputs": [],
   "source": [
    "from sklearn.model_selection import train_test_split\n",
    "X_train, X_test, y_train, y_test = train_test_split(X,y,test_size=1/3,random_state=0)"
   ]
  },
  {
   "cell_type": "markdown",
   "id": "3cd2f267",
   "metadata": {},
   "source": [
    "## 4. Fitting linear regression model into the training set"
   ]
  },
  {
   "cell_type": "code",
   "execution_count": 5,
   "id": "338d6d84",
   "metadata": {},
   "outputs": [
    {
     "data": {
      "text/plain": [
       "LinearRegression()"
      ]
     },
     "execution_count": 5,
     "metadata": {},
     "output_type": "execute_result"
    }
   ],
   "source": [
    "from sklearn.linear_model import LinearRegression\n",
    "regressor = LinearRegression()\n",
    "regressor.fit(X_train,y_train) #actually produces the linear eqn for the data"
   ]
  },
  {
   "cell_type": "markdown",
   "id": "0fac5398",
   "metadata": {},
   "source": [
    "## 5. Predicting the test set results"
   ]
  },
  {
   "cell_type": "code",
   "execution_count": 6,
   "id": "65846e7d",
   "metadata": {},
   "outputs": [
    {
     "data": {
      "text/plain": [
       "array([ 40835.10590871, 123079.39940819,  65134.55626083,  63265.36777221,\n",
       "       115602.64545369, 108125.8914992 , 116537.23969801,  64199.96201652,\n",
       "        76349.68719258, 100649.1375447 ])"
      ]
     },
     "execution_count": 6,
     "metadata": {},
     "output_type": "execute_result"
    }
   ],
   "source": [
    "y_pred = regressor.predict(X_test) \n",
    "y_pred"
   ]
  },
  {
   "cell_type": "markdown",
   "id": "fbc767a6",
   "metadata": {},
   "source": [
    "### Comaparison of Actual Y values and Predicted Y values"
   ]
  },
  {
   "cell_type": "code",
   "execution_count": 7,
   "id": "ff3cbac9",
   "metadata": {},
   "outputs": [
    {
     "data": {
      "text/html": [
       "<div>\n",
       "<style scoped>\n",
       "    .dataframe tbody tr th:only-of-type {\n",
       "        vertical-align: middle;\n",
       "    }\n",
       "\n",
       "    .dataframe tbody tr th {\n",
       "        vertical-align: top;\n",
       "    }\n",
       "\n",
       "    .dataframe thead th {\n",
       "        text-align: right;\n",
       "    }\n",
       "</style>\n",
       "<table border=\"1\" class=\"dataframe\">\n",
       "  <thead>\n",
       "    <tr style=\"text-align: right;\">\n",
       "      <th></th>\n",
       "      <th>Y_actual</th>\n",
       "      <th>Y_Predict</th>\n",
       "    </tr>\n",
       "  </thead>\n",
       "  <tbody>\n",
       "    <tr>\n",
       "      <th>0</th>\n",
       "      <td>37731.0</td>\n",
       "      <td>40835.105909</td>\n",
       "    </tr>\n",
       "    <tr>\n",
       "      <th>1</th>\n",
       "      <td>122391.0</td>\n",
       "      <td>123079.399408</td>\n",
       "    </tr>\n",
       "    <tr>\n",
       "      <th>2</th>\n",
       "      <td>57081.0</td>\n",
       "      <td>65134.556261</td>\n",
       "    </tr>\n",
       "    <tr>\n",
       "      <th>3</th>\n",
       "      <td>63218.0</td>\n",
       "      <td>63265.367772</td>\n",
       "    </tr>\n",
       "    <tr>\n",
       "      <th>4</th>\n",
       "      <td>116969.0</td>\n",
       "      <td>115602.645454</td>\n",
       "    </tr>\n",
       "    <tr>\n",
       "      <th>5</th>\n",
       "      <td>109431.0</td>\n",
       "      <td>108125.891499</td>\n",
       "    </tr>\n",
       "    <tr>\n",
       "      <th>6</th>\n",
       "      <td>112635.0</td>\n",
       "      <td>116537.239698</td>\n",
       "    </tr>\n",
       "    <tr>\n",
       "      <th>7</th>\n",
       "      <td>55794.0</td>\n",
       "      <td>64199.962017</td>\n",
       "    </tr>\n",
       "    <tr>\n",
       "      <th>8</th>\n",
       "      <td>83088.0</td>\n",
       "      <td>76349.687193</td>\n",
       "    </tr>\n",
       "    <tr>\n",
       "      <th>9</th>\n",
       "      <td>101302.0</td>\n",
       "      <td>100649.137545</td>\n",
       "    </tr>\n",
       "  </tbody>\n",
       "</table>\n",
       "</div>"
      ],
      "text/plain": [
       "   Y_actual      Y_Predict\n",
       "0   37731.0   40835.105909\n",
       "1  122391.0  123079.399408\n",
       "2   57081.0   65134.556261\n",
       "3   63218.0   63265.367772\n",
       "4  116969.0  115602.645454\n",
       "5  109431.0  108125.891499\n",
       "6  112635.0  116537.239698\n",
       "7   55794.0   64199.962017\n",
       "8   83088.0   76349.687193\n",
       "9  101302.0  100649.137545"
      ]
     },
     "execution_count": 7,
     "metadata": {},
     "output_type": "execute_result"
    }
   ],
   "source": [
    "Test_result_df = pd.DataFrame(columns={'Y_actual','Y_Predict'})\n",
    "Test_result_df['Y_actual']=y_test\n",
    "Test_result_df['Y_Predict']=y_pred\n",
    "Test_result_df"
   ]
  },
  {
   "cell_type": "markdown",
   "id": "4a764378",
   "metadata": {},
   "source": [
    "## Visualizing the results\n",
    "### 1. Plotting the points (observations)\n",
    "The X-axis will have years of experience and the Y-axis will have the predicted salaries.\n",
    "\n",
    "plt.scatter plots a scatter plot of the data. Parameters include :\n",
    "1. X – coordinate (X_train: number of years)\n",
    "2. Y – coordinate (y_train: real salaries of the employees)\n",
    "3. Color ( Regression line in red and observation line in blue)"
   ]
  },
  {
   "cell_type": "code",
   "execution_count": 8,
   "id": "3ee92c45",
   "metadata": {},
   "outputs": [
    {
     "data": {
      "image/png": "[encoded data removed]",
      "text/plain": [
       "<Figure size 432x288 with 1 Axes>"
      ]
     },
     "metadata": {
      "needs_background": "light"
     },
     "output_type": "display_data"
    }
   ],
   "source": [
    "plt.scatter(X_train, y_train, color='red') # plotting the observation line\n",
    "plt.xlabel(\"Years of experience\") # adding the name of x-axis\n",
    "plt.ylabel(\"Salaries\") # adding the name of y-axis\n",
    "plt.show() # specifies end of graph"
   ]
  },
  {
   "cell_type": "markdown",
   "id": "685bd09c",
   "metadata": {},
   "source": [
    "### 2. Plotting the regression line\n",
    "plt.plot have the following parameters :\n",
    "\n",
    "1. X coordinates (X_train) – number of years\n",
    "2. Y coordinates (predict on X_train) – prediction of X-train (based on a number of years)."
   ]
  },
  {
   "cell_type": "code",
   "execution_count": 9,
   "id": "686a79d6",
   "metadata": {},
   "outputs": [
    {
     "data": {
      "image/png": "[encoded data removed]",
      "text/plain": [
       "<Figure size 1080x360 with 2 Axes>"
      ]
     },
     "metadata": {
      "needs_background": "light"
     },
     "output_type": "display_data"
    }
   ],
   "source": [
    "figure, (ax1, ax2) = plt.subplots(1, 2,figsize=(15, 5))\n",
    "\n",
    "ax1.scatter(X_train, y_train, color='red') # plotting the observation line\n",
    "ax1.plot(X_train, regressor.predict(X_train), color='blue') # plotting the regression line\n",
    "ax1.set_xlabel(\"Years of experience\") # adding the name of x-axis\n",
    "ax1.set_ylabel(\"Salaries\") # adding the name of y-axis\n",
    "ax1.set_title(\"Salary vs Experience (Training set)\")\n",
    "\n",
    "ax2.scatter(X_test, y_test, color='green')\n",
    "ax2.plot(X_train, regressor.predict(X_train), color='blue') # plotting the regression line\n",
    "ax2.set_xlabel(\"Years of experience\") # adding the name of x-axis\n",
    "ax2.set_ylabel(\"Salaries\") # adding the name of y-axis\n",
    "ax2.set_title(\"Salary vs Experience (Testing set)\")\n",
    "\n",
    "plt.show() "
   ]
  },
  {
   "cell_type": "code",
   "execution_count": 10,
   "id": "4945c4a8",
   "metadata": {},
   "outputs": [
    {
     "name": "stdout",
     "output_type": "stream",
     "text": [
      "Coefficient of Determination 0.9381900012894278\n",
      "Intercept 26816.19224403119\n",
      "Slope [9345.94244312]\n"
     ]
    }
   ],
   "source": [
    "print(\"Coefficient of Determination\", regressor.score(X_train,y_train))\n",
    "print(\"Intercept\", regressor.intercept_)\n",
    "print(\"Slope\", regressor.coef_)"
   ]
  },
  {
   "cell_type": "markdown",
   "id": "c783e0a3",
   "metadata": {},
   "source": [
    "## Measure the performance of model"
   ]
  },
  {
   "cell_type": "code",
   "execution_count": 11,
   "id": "ea986d88",
   "metadata": {},
   "outputs": [
    {
     "name": "stdout",
     "output_type": "stream",
     "text": [
      "Results of sklearn.metrics:\n",
      "MAE: 3426.4269374307123\n",
      "MSE: 21026037.329511296\n",
      "RMSE: 4585.4157204675885\n",
      "R-Squared: 0.9749154407708353\n"
     ]
    }
   ],
   "source": [
    "import sklearn.metrics as metrics\n",
    "\n",
    "mae = metrics.mean_absolute_error(y_test,y_pred)\n",
    "mse = metrics.mean_squared_error(y_test,y_pred)\n",
    "rmse = np.sqrt(mse)\n",
    "r2 = metrics.r2_score(y_test,y_pred)\n",
    "print(\"Results of sklearn.metrics:\")\n",
    "print(\"MAE:\",mae)\n",
    "print(\"MSE:\", mse)\n",
    "print(\"RMSE:\", rmse)\n",
    "print(\"R-Squared:\", r2)"
   ]
  },
  {
   "cell_type": "code",
   "execution_count": null,
   "id": "4fcf4e20",
   "metadata": {},
   "outputs": [],
   "source": []
  }
 ],
 "metadata": {
  "kernelspec": {
   "display_name": "Python 3",
   "language": "python",
   "name": "python3"
  },
  "language_info": {
   "codemirror_mode": {
    "name": "ipython",
    "version": 3
   },
   "file_extension": ".py",
   "mimetype": "text/x-python",
   "name": "python",
   "nbconvert_exporter": "python",
   "pygments_lexer": "ipython3",
   "version": "3.8.8"
  }
 },
 "nbformat": 4,
 "nbformat_minor": 5
}
